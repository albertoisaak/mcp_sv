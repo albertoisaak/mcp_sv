{
 "cells": [
  {
   "cell_type": "code",
   "execution_count": 2,
   "id": "9ec8c584",
   "metadata": {},
   "outputs": [],
   "source": [
    "from neo4j import GraphDatabase"
   ]
  },
  {
   "cell_type": "code",
   "execution_count": 3,
   "id": "157f283b",
   "metadata": {},
   "outputs": [],
   "source": [
    "# URI examples: \"neo4j://localhost\", \"neo4j+s://xxx.databases.neo4j.io\"\n",
    "URI = \"neo4j+s://3bf0ff2c.databases.neo4j.io\"\n",
    "AUTH = (\"neo4j\", \"QrIQolzO5EvFK-ObdlsKTroOPeVQkfUJOM3-4ts6JZI\")\n",
    "\n",
    "with GraphDatabase.driver(URI, auth=AUTH) as driver:\n",
    "    driver.verify_connectivity()"
   ]
  },
  {
   "cell_type": "code",
   "execution_count": 4,
   "id": "85cb51d9",
   "metadata": {},
   "outputs": [
    {
     "name": "stderr",
     "output_type": "stream",
     "text": [
      "/var/folders/wv/lxg9c2_n27b99l22c7d4z7pw0000gn/T/ipykernel_3878/864442870.py:1: DeprecationWarning: Using a driver after it has been closed is deprecated. Future versions of the driver will raise an error.\n",
      "  summary = driver.execute_query(\"\"\"\n"
     ]
    },
    {
     "name": "stdout",
     "output_type": "stream",
     "text": [
      "Created 2 nodes in 78 ms.\n"
     ]
    }
   ],
   "source": [
    "summary = driver.execute_query(\"\"\"\n",
    "    CREATE (a:Person {name: $name})\n",
    "    CREATE (b:Person {name: $friendName})\n",
    "    CREATE (a)-[:KNOWS]->(b)\n",
    "    \"\"\",\n",
    "    name=\"Alice\", friendName=\"David\",\n",
    "    database_=\"neo4j\",\n",
    ").summary\n",
    "print(\"Created {nodes_created} nodes in {time} ms.\".format(\n",
    "    nodes_created=summary.counters.nodes_created,\n",
    "    time=summary.result_available_after\n",
    "))"
   ]
  },
  {
   "cell_type": "code",
   "execution_count": 5,
   "id": "3faeda63",
   "metadata": {},
   "outputs": [
    {
     "name": "stderr",
     "output_type": "stream",
     "text": [
      "/var/folders/wv/lxg9c2_n27b99l22c7d4z7pw0000gn/T/ipykernel_3878/3291004379.py:1: DeprecationWarning: Using a driver after it has been closed is deprecated. Future versions of the driver will raise an error.\n",
      "  records, summary, keys = driver.execute_query(\"\"\"\n"
     ]
    },
    {
     "name": "stdout",
     "output_type": "stream",
     "text": [
      "{'name': 'Alice'}\n",
      "The query `\n",
      "    MATCH (p:Person)-[:KNOWS]->(:Person)\n",
      "    RETURN p.name AS name\n",
      "    ` returned 1 records in 73 ms.\n"
     ]
    }
   ],
   "source": [
    "records, summary, keys = driver.execute_query(\"\"\"\n",
    "    MATCH (p:Person)-[:KNOWS]->(:Person)\n",
    "    RETURN p.name AS name\n",
    "    \"\"\",\n",
    "    database_=\"neo4j\",\n",
    ")\n",
    "\n",
    "# Loop through results and do something with them\n",
    "for record in records:\n",
    "    print(record.data())  # obtain record as dict\n",
    "\n",
    "# Summary information\n",
    "print(\"The query `{query}` returned {records_count} records in {time} ms.\".format(\n",
    "    query=summary.query, records_count=len(records),\n",
    "    time=summary.result_available_after\n",
    "))"
   ]
  }
 ],
 "metadata": {
  "kernelspec": {
   "display_name": ".venv",
   "language": "python",
   "name": "python3"
  },
  "language_info": {
   "codemirror_mode": {
    "name": "ipython",
    "version": 3
   },
   "file_extension": ".py",
   "mimetype": "text/x-python",
   "name": "python",
   "nbconvert_exporter": "python",
   "pygments_lexer": "ipython3",
   "version": "3.13.0"
  }
 },
 "nbformat": 4,
 "nbformat_minor": 5
}
